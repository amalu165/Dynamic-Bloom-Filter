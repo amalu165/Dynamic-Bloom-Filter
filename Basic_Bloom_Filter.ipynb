{
  "nbformat": 4,
  "nbformat_minor": 0,
  "metadata": {
    "colab": {
      "provenance": []
    },
    "kernelspec": {
      "name": "python3",
      "display_name": "Python 3"
    },
    "language_info": {
      "name": "python"
    }
  },
  "cells": [
    {
      "cell_type": "code",
      "execution_count": null,
      "metadata": {
        "colab": {
          "base_uri": "https://localhost:8080/"
        },
        "id": "fXmw7JL3L6oU",
        "outputId": "cfc53a8f-4d2f-4f9c-e945-2951d567e2e9"
      },
      "outputs": [
        {
          "output_type": "stream",
          "name": "stdout",
          "text": [
            "Drive already mounted at /content/drive; to attempt to forcibly remount, call drive.mount(\"/content/drive\", force_remount=True).\n"
          ]
        }
      ],
      "source": [
        "from google.colab import drive\n",
        "drive.mount('/content/drive')"
      ]
    },
    {
      "cell_type": "code",
      "source": [
        "import hashlib\n",
        "import math\n",
        "import random\n",
        "import string"
      ],
      "metadata": {
        "id": "D8Tfh4XnKqlD"
      },
      "execution_count": null,
      "outputs": []
    },
    {
      "cell_type": "code",
      "source": [
        "class BloomFilter:\n",
        "\n",
        "    def __init__(self, capacity, false_prob):\n",
        "        '''\n",
        "        Initializes a Bloom filter with a given capacity and error rate\n",
        "        '''\n",
        "        self.capacity = 1000 # maximum number of elements that can be stored\n",
        "        self.false_prob = 0.0000001 # desired maximum false positive rate\n",
        "        self.num_bits = -(self.capacity * math.log(false_prob))/(math.log(2)**2)\n",
        "        self.num_hashes = int((self.num_bits/self.capacity) * math.log(2))  # number of hash functions needed\n",
        "        self.bit_array = [0] * int(self.num_bits) # bit array to store the elements\n",
        "\n",
        "    def add(self, element): # define 'add' as part of the BloomFilter class\n",
        "        for i in range(self.num_hashes):\n",
        "            # generates a SHA-256 hash value for the element and sets the corresponding bit to 1\n",
        "            hash_val = int(hashlib.sha256(f'{element}{i}'.encode()).hexdigest(), 16) % int(self.num_bits)\n",
        "            self.bit_array[hash_val] = 1\n",
        "\n",
        "    def __contains__(self, element):\n",
        "        for i in range(self.num_hashes):\n",
        "            # generates a SHA-256 hash value for the element and checks if the corresponding bit is 1\n",
        "            hash_val = int(hashlib.sha256(f'{element}{i}'.encode()).hexdigest(), 16) % int(self.num_bits)\n",
        "            if self.bit_array[hash_val] == 0:\n",
        "                # if any of the bits is 0, the element is definitely not present\n",
        "                return False\n",
        "        # if all the bits are 1, the element may or may not be present\n",
        "        return True\n",
        "\n",
        "# function to generate random strings\n",
        "def generate_random_strings(num_strings, length=10):\n",
        "    return [''.join(random.choices(string.ascii_lowercase, k=length)) for _ in range(num_strings)]\n",
        "\n",
        "!pip install hashlib\n",
        "import hashlib\n",
        "import math\n",
        "import random\n",
        "import string\n",
        "\n",
        "# Create an instance of the BloomFilter class\n",
        "bf = BloomFilter(1000, 0.0000001)\n",
        "\n",
        "# Now you can access the attributes using the instance\n",
        "print(bf.num_bits)\n",
        "print(bf.num_hashes)\n",
        "\n",
        "# generate 20 random strings and add to the bloom filter\n",
        "random_strings = generate_random_strings(50)\n",
        "for item in random_strings:\n",
        "    bf.add(item) # 'add' method is now part of the class\n",
        "    print(item)"
      ],
      "metadata": {
        "colab": {
          "base_uri": "https://localhost:8080/"
        },
        "id": "3lnPMzZ2K04x",
        "outputId": "e3994f65-5467-4dcb-c182-c74935e63401"
      },
      "execution_count": null,
      "outputs": [
        {
          "output_type": "stream",
          "name": "stdout",
          "text": [
            "\u001b[31mERROR: Could not find a version that satisfies the requirement hashlib (from versions: 20081119)\u001b[0m\u001b[31m\n",
            "\u001b[0m\u001b[31mERROR: No matching distribution found for hashlib\u001b[0m\u001b[31m\n",
            "\u001b[0m33547.70432078604\n",
            "23\n",
            "ulcorccgox\n",
            "txlvmjtqwr\n",
            "nxsmazbpyl\n",
            "tkcvtcjjyp\n",
            "lprofnrtyr\n",
            "opdincoedi\n",
            "onddaopmjm\n",
            "vxaxmtmceu\n",
            "seujgpgylf\n",
            "afsgdwzqgr\n",
            "rrzayhchkw\n",
            "tdlvmudomz\n",
            "gxgxbwrsiy\n",
            "pccgldpgdt\n",
            "fcikampkcz\n",
            "qchslipevo\n",
            "xygmcjkdza\n",
            "rbptelzajk\n",
            "tbzxlodlbm\n",
            "ksnphdntcv\n",
            "reujufshof\n",
            "vwzjggmyzh\n",
            "fqwgutzxih\n",
            "ofvukozimz\n",
            "plmpafszgv\n",
            "epvybceivf\n",
            "nxakpjlixw\n",
            "vfozcvtrlx\n",
            "dncodwumsi\n",
            "kwikeqmwui\n",
            "fydzsaetow\n",
            "akmfgudkyt\n",
            "kvgbbgnsoy\n",
            "syxmnkmdsm\n",
            "mzzijfalxm\n",
            "blixhvisig\n",
            "pltbmelzvx\n",
            "egesxcjqeg\n",
            "iolzosedzs\n",
            "shalgeoxti\n",
            "ddivbiukco\n",
            "rirvxuyrto\n",
            "whbcuggpbc\n",
            "siwawdgopk\n",
            "shbgqwblaf\n",
            "ytwcnexovz\n",
            "ymuepubvho\n",
            "wdspdphegf\n",
            "joalzecsbu\n",
            "osseahwqbz\n"
          ]
        }
      ]
    },
    {
      "cell_type": "code",
      "source": [
        "# check if a randomly selected item is in the bloom filter\n",
        "test_item = random_strings[4]\n",
        "print(f\"{test_item} in bloom_filter: {test_item in bf}\")  # Should return True\n",
        "print(\"pear in bloom_filter:\", \"pear\" in bf)  # Should return False"
      ],
      "metadata": {
        "colab": {
          "base_uri": "https://localhost:8080/"
        },
        "id": "SPbwqh1lQB9P",
        "outputId": "14ab0876-c9f6-446d-fdd4-0c8a56ed4507"
      },
      "execution_count": null,
      "outputs": [
        {
          "output_type": "stream",
          "name": "stdout",
          "text": [
            "umrslxtzkk in bloom_filter: True\n",
            "pear in bloom_filter: False\n"
          ]
        }
      ]
    }
  ]
}